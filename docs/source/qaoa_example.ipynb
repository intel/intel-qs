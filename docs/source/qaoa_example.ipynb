{
 "cells": [
  {
   "cell_type": "markdown",
   "metadata": {},
   "source": [
    "----\n",
    "# Example using the extra features for QAOA circuits\n",
    "----\n",
    "\n",
    "The Quantum Approximate Optimization Algorithm (QAOA) is a variational algorithm to solve combinatorial problems.\n",
    "Here we provide the syntax to quickly define and simulate QAOA circuits.\n",
    "\n",
    "As a concrete example, we consider the MaxCut problem on a linear graph of 6 vertices. It is trivially solved analytically, but the numerical procedure extends to more complicated instances.\n",
    "\n",
    "**NOTE:**\n",
    "Currently, the Python implementation only allows for single-core execution and does not take advantages of the MPI protocol."
   ]
  },
  {
   "cell_type": "markdown",
   "metadata": {},
   "source": [
    "### Import Intel QS library\n",
    "\n",
    "We start by importing the Python library with the class and methods defined in the C++ implementation."
   ]
  },
  {
   "cell_type": "code",
   "execution_count": 1,
   "metadata": {},
   "outputs": [],
   "source": [
    "# Import the Python library with the C++ class and methods of Intel Quantum Simulator.\n",
    "# If the library is not contained in the same folder of this notebook, its path has to be added.\n",
    "import sys\n",
    "sys.path.insert(0, '../build/lib')\n",
    "import intelqs_py as simulator\n",
    "\n",
    "# Import NumPy library with Intel specialization.\n",
    "import numpy as np\n",
    "from numpy import random_intel\n",
    "\n",
    "# Import graphical library for plots.\n",
    "import matplotlib.pyplot as plt"
   ]
  },
  {
   "cell_type": "markdown",
   "metadata": {},
   "source": [
    "### Initialize the Max-Cut problem instance via its adjacency matrix\n",
    "\n",
    "Specific instance:\n",
    "0 -- 1 -- 2 -- 3 -- 4 -- 5\n",
    "\n",
    "We describe the instance by its adjacency matrix $A$, represented as a bidimensional NumPy array.\n",
    "\n",
    "Each of the $2^6$ bipartitions of the 6 vertices is associated with a cut value (the number of edges connecting vertices of different color)."
   ]
  },
  {
   "cell_type": "code",
   "execution_count": 2,
   "metadata": {},
   "outputs": [
    {
     "name": "stdout",
     "output_type": "stream",
     "text": [
      "The adjacency matrix of the graph is:\n",
      "\n",
      "[[0 1 0 0 0 0]\n",
      " [1 0 1 0 0 0]\n",
      " [0 1 0 1 0 0]\n",
      " [0 0 1 0 1 0]\n",
      " [0 0 0 1 0 1]\n",
      " [0 0 0 0 1 0]]\n",
      "\n",
      "The max value of the cut is :  5\n"
     ]
    }
   ],
   "source": [
    "# Number of vertices.\n",
    "num_vertices = 6;\n",
    "# Adjacency matrix.\n",
    "A = np.zeros((num_vertices,num_vertices),dtype=np.int32);\n",
    "# Since A is sparse, fill it element by element.\n",
    "A[0,1] = 1;\n",
    "A[1,0] = 1;\n",
    "A[1,2] = 1;\n",
    "A[2,1] = 1;\n",
    "A[2,3] = 1;\n",
    "A[3,2] = 1;\n",
    "A[3,4] = 1;\n",
    "A[4,3] = 1;\n",
    "A[4,5] = 1;\n",
    "A[5,4] = 1;\n",
    "print(\"The adjacency matrix of the graph is:\\n\")\n",
    "print(A)\n",
    "#print(list(A.flatten()))\n",
    "\n",
    "# Allocate memory for the diagonal of the objective function.\n",
    "diag_cuts = simulator.QubitRegister(num_vertices, \"base\", 0, 0);\n",
    "max_cut = simulator.InitializeVectorAsMaxCutCostFunction( diag_cuts, list(A.flatten()) );\n",
    "\n",
    "print(\"\\nThe max value of the cut is : {0:2d}\".format(max_cut))"
   ]
  },
  {
   "cell_type": "markdown",
   "metadata": {},
   "source": [
    "### Implement a p=2 QAOA circuit\n",
    "----\n",
    "\n",
    "- initialize the state in $|000000\\rangle$\n",
    "- prepare the state in $|++++++\\rangle$\n",
    "- iterate throught the QAOA steps (here p=2)\n",
    "- each step is composed by the global operation defined by the cost function C and the transverse field mixing"
   ]
  },
  {
   "cell_type": "code",
   "execution_count": 3,
   "metadata": {},
   "outputs": [],
   "source": [
    "# Number of qubits.\n",
    "num_qubits = num_vertices;\n",
    "# Allocate memory for the quantum register's state and initialize it to |000000>.\n",
    "psi = simulator.QubitRegister(num_qubits, \"base\", 0, 0);\n",
    "\n",
    "# Prepare state |++++++>\n",
    "for qubit in range(num_qubits):\n",
    "    psi.ApplyHadamard(qubit);\n",
    "\n",
    "# QAOA circuit:\n",
    "qaoa_depth = 2;\n",
    "# Random choice of QAOA parameters.\n",
    "np.random.seed(7777);\n",
    "gamma = np.random.random_sample((qaoa_depth,))*3.14159;\n",
    "beta  = np.random.random_sample((qaoa_depth,))*3.14159;\n",
    "\n",
    "for p in range(qaoa_depth):\n",
    "    # exp(-i gamma C)\n",
    "    simulator.ImplementQaoaLayerBasedOnCostFunction(psi, diag_cuts, gamma[p]);\n",
    "    # exp(-i beta  B)\n",
    "    for qubit in range(num_qubits):\n",
    "        psi.ApplyRotationX(qubit,beta[p]);\n",
    "\n",
    "# At this point |psi> corresponds to the state at the end of the QAOA circuit."
   ]
  },
  {
   "cell_type": "markdown",
   "metadata": {},
   "source": [
    "### Collect the results and visualize them in a histogram"
   ]
  },
  {
   "cell_type": "code",
   "execution_count": 4,
   "metadata": {},
   "outputs": [
    {
     "name": "stdout",
     "output_type": "stream",
     "text": [
      "The probabilities of the cut values are:\n",
      "cut= 0 :  0.0397\n",
      "cut= 1 :  0.1778\n",
      "cut= 2 :  0.3483\n",
      "cut= 3 :  0.2986\n",
      "cut= 4 :  0.1120\n",
      "cut= 5 :  0.0236\n"
     ]
    },
    {
     "data": {
      "image/png": "[encoded data removed]",
      "text/plain": [
       "<Figure size 432x288 with 1 Axes>"
      ]
     },
     "metadata": {},
     "output_type": "display_data"
    }
   ],
   "source": [
    "# The form of the histogram has been discussed privately.\n",
    "histo = simulator.GetHistogramFromCostFunction(psi, diag_cuts, max_cut);\n",
    "print(\"The probabilities of the cut values are:\")\n",
    "for c in range(max_cut+1):\n",
    "    print(\"cut={0:2d} :  {1:1.4f}\".format(c,histo[c]))\n",
    "\n",
    "# Plot histogram.\n",
    "x = np.arange(max_cut+1)\n",
    "fig = plt.bar(x, histo, align='center', alpha=0.5)\n",
    "#plt.xticks(x)\n",
    "plt.xlabel('cut value')\n",
    "plt.ylabel('probability of cut')\n",
    "#plt.title('Summary of results')\n",
    "plt.show()"
   ]
  },
  {
   "cell_type": "markdown",
   "metadata": {},
   "source": [
    "### Simple test\n",
    "\n",
    "This instance represents a disconnected graph with only two edges, namely:\n",
    "0 -- 1    2    3   4 -- 5\n",
    "\n",
    "We describe the instance by its adjacency matrix $A$, represented as a bidimensional NumPy array.\n",
    "\n",
    "Each of the $2^6$ bipartitions of the 6 vertices is associated with a cut value (the number of edges connecting vertices of different color). For Half of the bipartitions the 0--1 edge can be cut and for half of the bipartitions, independently of the previous consideration, the 5--6 edge can be cut. The histogram has three bins (cut values = {0,1,2}) and ratio 1:2:1."
   ]
  },
  {
   "cell_type": "code",
   "execution_count": 5,
   "metadata": {},
   "outputs": [
    {
     "name": "stdout",
     "output_type": "stream",
     "text": [
      "[0.2499999999999999, 0.4999999999999999, 0.2499999999999999]\n"
     ]
    },
    {
     "data": {
      "image/png": "[encoded data removed]",
      "text/plain": [
       "<Figure size 432x288 with 1 Axes>"
      ]
     },
     "metadata": {},
     "output_type": "display_data"
    }
   ],
   "source": [
    "# Number of vertices.\n",
    "num_vertices = 6;\n",
    "# Adjacency matrix.\n",
    "A = np.zeros((num_vertices,num_vertices),dtype=np.int32);\n",
    "# Since A is sparse, fill it element by element.\n",
    "A[0,1] = 1;\n",
    "A[1,0] = 1;\n",
    "A[num_vertices-2,num_vertices-1] = 1;\n",
    "A[num_vertices-1,num_vertices-2] = 1;\n",
    "\n",
    "# Allocate memory for the diagonal of the objective function.\n",
    "diag_cuts = simulator.QubitRegister(num_vertices, \"base\", 0, 0);\n",
    "max_cut = simulator.InitializeVectorAsMaxCutCostFunction( diag_cuts, list(A.flatten()) );\n",
    "\n",
    "# Number of qubits.\n",
    "num_qubits = num_vertices;\n",
    "# Allocate memory for the quantum register's state and initialize it to |000000>.\n",
    "psi = simulator.QubitRegister(num_qubits, \"base\", 0, 0);\n",
    "\n",
    "# Prepare state |++++++>\n",
    "for qubit in range(num_qubits):\n",
    "    psi.ApplyHadamard(qubit);\n",
    "\n",
    "# The form of the histogram has been discussed privately.\n",
    "histo = simulator.GetHistogramFromCostFunction(psi, diag_cuts, max_cut);\n",
    "print(histo)\n",
    "\n",
    "# Plot histogram.\n",
    "x = np.arange(max_cut+1)\n",
    "fig = plt.bar(x, histo, align='center', alpha=0.5)\n",
    "#plt.xticks(x)\n",
    "plt.xlabel('cut value')\n",
    "plt.ylabel('probability of cut')\n",
    "#plt.title('Summary of results')\n",
    "plt.show()"
   ]
  },
  {
   "cell_type": "markdown",
   "metadata": {},
   "source": [
    "----\n",
    "## END\n",
    "----"
   ]
  }
 ],
 "metadata": {
  "kernelspec": {
   "display_name": "Python 3",
   "language": "python",
   "name": "python3"
  },
  "language_info": {
   "codemirror_mode": {
    "name": "ipython",
    "version": 3
   },
   "file_extension": ".py",
   "mimetype": "text/x-python",
   "name": "python",
   "nbconvert_exporter": "python",
   "pygments_lexer": "ipython3",
   "version": "3.6.9"
  }
 },
 "nbformat": 4,
 "nbformat_minor": 2
}
